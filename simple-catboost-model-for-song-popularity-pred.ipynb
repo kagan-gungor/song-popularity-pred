{
 "cells": [
  {
   "cell_type": "code",
   "execution_count": 1,
   "id": "9b9ad583",
   "metadata": {
    "_cell_guid": "b1076dfc-b9ad-4769-8c92-a6c4dae69d19",
    "_uuid": "8f2839f25d086af736a60e9eeb907d3b93b6e0e5",
    "execution": {
     "iopub.execute_input": "2022-01-22T22:12:00.968493Z",
     "iopub.status.busy": "2022-01-22T22:12:00.961772Z",
     "iopub.status.idle": "2022-01-22T22:12:02.674539Z",
     "shell.execute_reply": "2022-01-22T22:12:02.673699Z",
     "shell.execute_reply.started": "2022-01-22T21:59:15.353390Z"
    },
    "papermill": {
     "duration": 1.728886,
     "end_time": "2022-01-22T22:12:02.674718",
     "exception": false,
     "start_time": "2022-01-22T22:12:00.945832",
     "status": "completed"
    },
    "tags": []
   },
   "outputs": [],
   "source": [
    "import pandas as pd\n",
    "import numpy as np\n",
    "import seaborn as sns\n",
    "import matplotlib.pyplot as plt\n",
    "\n",
    "\n",
    "from sklearn.impute import SimpleImputer\n",
    "from sklearn import preprocessing\n",
    "from catboost import CatBoostClassifier\n",
    "from imblearn.over_sampling import RandomOverSampler\n",
    "from sklearn.metrics import classification_report,confusion_matrix,accuracy_score\n",
    "\n",
    "import warnings\n",
    "warnings.filterwarnings(\"ignore\")"
   ]
  },
  {
   "cell_type": "code",
   "execution_count": 2,
   "id": "9e4109b4",
   "metadata": {
    "execution": {
     "iopub.execute_input": "2022-01-22T22:12:02.702383Z",
     "iopub.status.busy": "2022-01-22T22:12:02.701643Z",
     "iopub.status.idle": "2022-01-22T22:12:02.988540Z",
     "shell.execute_reply": "2022-01-22T22:12:02.987889Z",
     "shell.execute_reply.started": "2022-01-22T21:59:19.579138Z"
    },
    "papermill": {
     "duration": 0.302163,
     "end_time": "2022-01-22T22:12:02.988693",
     "exception": false,
     "start_time": "2022-01-22T22:12:02.686530",
     "status": "completed"
    },
    "tags": []
   },
   "outputs": [],
   "source": [
    "df = pd.read_csv(\"../input/song-popularity-folds/train_folds.csv\")\n",
    "df_test = pd.read_csv(\"../input/song-popularity-prediction/test.csv\")\n",
    "sample_submission = pd.read_csv(\"../input/song-popularity-prediction/sample_submission.csv\")"
   ]
  },
  {
   "cell_type": "code",
   "execution_count": 3,
   "id": "bf0a2c02",
   "metadata": {
    "execution": {
     "iopub.execute_input": "2022-01-22T22:12:03.017187Z",
     "iopub.status.busy": "2022-01-22T22:12:03.016044Z",
     "iopub.status.idle": "2022-01-22T22:12:03.040919Z",
     "shell.execute_reply": "2022-01-22T22:12:03.041468Z",
     "shell.execute_reply.started": "2022-01-22T21:59:19.851479Z"
    },
    "papermill": {
     "duration": 0.043453,
     "end_time": "2022-01-22T22:12:03.041655",
     "exception": false,
     "start_time": "2022-01-22T22:12:02.998202",
     "status": "completed"
    },
    "tags": []
   },
   "outputs": [
    {
     "data": {
      "text/html": [
       "<div>\n",
       "<style scoped>\n",
       "    .dataframe tbody tr th:only-of-type {\n",
       "        vertical-align: middle;\n",
       "    }\n",
       "\n",
       "    .dataframe tbody tr th {\n",
       "        vertical-align: top;\n",
       "    }\n",
       "\n",
       "    .dataframe thead th {\n",
       "        text-align: right;\n",
       "    }\n",
       "</style>\n",
       "<table border=\"1\" class=\"dataframe\">\n",
       "  <thead>\n",
       "    <tr style=\"text-align: right;\">\n",
       "      <th></th>\n",
       "      <th>id</th>\n",
       "      <th>song_duration_ms</th>\n",
       "      <th>acousticness</th>\n",
       "      <th>danceability</th>\n",
       "      <th>energy</th>\n",
       "      <th>instrumentalness</th>\n",
       "      <th>key</th>\n",
       "      <th>liveness</th>\n",
       "      <th>loudness</th>\n",
       "      <th>audio_mode</th>\n",
       "      <th>speechiness</th>\n",
       "      <th>tempo</th>\n",
       "      <th>time_signature</th>\n",
       "      <th>audio_valence</th>\n",
       "      <th>song_popularity</th>\n",
       "      <th>kfold</th>\n",
       "    </tr>\n",
       "  </thead>\n",
       "  <tbody>\n",
       "    <tr>\n",
       "      <th>0</th>\n",
       "      <td>9847</td>\n",
       "      <td>132499.0</td>\n",
       "      <td>0.577092</td>\n",
       "      <td>0.460796</td>\n",
       "      <td>0.450780</td>\n",
       "      <td>0.005078</td>\n",
       "      <td>0.0</td>\n",
       "      <td>0.166867</td>\n",
       "      <td>-13.361975</td>\n",
       "      <td>1</td>\n",
       "      <td>0.022589</td>\n",
       "      <td>93.467197</td>\n",
       "      <td>3</td>\n",
       "      <td>0.879988</td>\n",
       "      <td>0</td>\n",
       "      <td>0</td>\n",
       "    </tr>\n",
       "    <tr>\n",
       "      <th>1</th>\n",
       "      <td>17422</td>\n",
       "      <td>171966.0</td>\n",
       "      <td>0.117289</td>\n",
       "      <td>0.638875</td>\n",
       "      <td>0.601890</td>\n",
       "      <td>NaN</td>\n",
       "      <td>7.0</td>\n",
       "      <td>0.134333</td>\n",
       "      <td>-7.038682</td>\n",
       "      <td>1</td>\n",
       "      <td>0.058911</td>\n",
       "      <td>85.637958</td>\n",
       "      <td>3</td>\n",
       "      <td>0.743561</td>\n",
       "      <td>1</td>\n",
       "      <td>0</td>\n",
       "    </tr>\n",
       "    <tr>\n",
       "      <th>2</th>\n",
       "      <td>23004</td>\n",
       "      <td>229096.0</td>\n",
       "      <td>0.066573</td>\n",
       "      <td>0.283908</td>\n",
       "      <td>0.948761</td>\n",
       "      <td>0.003192</td>\n",
       "      <td>5.0</td>\n",
       "      <td>0.141574</td>\n",
       "      <td>-4.944055</td>\n",
       "      <td>0</td>\n",
       "      <td>0.050572</td>\n",
       "      <td>183.835886</td>\n",
       "      <td>4</td>\n",
       "      <td>0.809488</td>\n",
       "      <td>1</td>\n",
       "      <td>0</td>\n",
       "    </tr>\n",
       "    <tr>\n",
       "      <th>3</th>\n",
       "      <td>32546</td>\n",
       "      <td>158198.0</td>\n",
       "      <td>0.004572</td>\n",
       "      <td>0.729196</td>\n",
       "      <td>0.855850</td>\n",
       "      <td>0.001077</td>\n",
       "      <td>1.0</td>\n",
       "      <td>0.167778</td>\n",
       "      <td>-4.747530</td>\n",
       "      <td>0</td>\n",
       "      <td>0.189456</td>\n",
       "      <td>175.649380</td>\n",
       "      <td>4</td>\n",
       "      <td>0.742967</td>\n",
       "      <td>1</td>\n",
       "      <td>0</td>\n",
       "    </tr>\n",
       "    <tr>\n",
       "      <th>4</th>\n",
       "      <td>21743</td>\n",
       "      <td>NaN</td>\n",
       "      <td>0.011991</td>\n",
       "      <td>0.352736</td>\n",
       "      <td>0.497838</td>\n",
       "      <td>0.105577</td>\n",
       "      <td>9.0</td>\n",
       "      <td>0.109678</td>\n",
       "      <td>NaN</td>\n",
       "      <td>0</td>\n",
       "      <td>0.026269</td>\n",
       "      <td>87.552650</td>\n",
       "      <td>3</td>\n",
       "      <td>0.096049</td>\n",
       "      <td>1</td>\n",
       "      <td>0</td>\n",
       "    </tr>\n",
       "  </tbody>\n",
       "</table>\n",
       "</div>"
      ],
      "text/plain": [
       "      id  song_duration_ms  acousticness  danceability    energy  \\\n",
       "0   9847          132499.0      0.577092      0.460796  0.450780   \n",
       "1  17422          171966.0      0.117289      0.638875  0.601890   \n",
       "2  23004          229096.0      0.066573      0.283908  0.948761   \n",
       "3  32546          158198.0      0.004572      0.729196  0.855850   \n",
       "4  21743               NaN      0.011991      0.352736  0.497838   \n",
       "\n",
       "   instrumentalness  key  liveness   loudness  audio_mode  speechiness  \\\n",
       "0          0.005078  0.0  0.166867 -13.361975           1     0.022589   \n",
       "1               NaN  7.0  0.134333  -7.038682           1     0.058911   \n",
       "2          0.003192  5.0  0.141574  -4.944055           0     0.050572   \n",
       "3          0.001077  1.0  0.167778  -4.747530           0     0.189456   \n",
       "4          0.105577  9.0  0.109678        NaN           0     0.026269   \n",
       "\n",
       "        tempo  time_signature  audio_valence  song_popularity  kfold  \n",
       "0   93.467197               3       0.879988                0      0  \n",
       "1   85.637958               3       0.743561                1      0  \n",
       "2  183.835886               4       0.809488                1      0  \n",
       "3  175.649380               4       0.742967                1      0  \n",
       "4   87.552650               3       0.096049                1      0  "
      ]
     },
     "execution_count": 3,
     "metadata": {},
     "output_type": "execute_result"
    }
   ],
   "source": [
    "df.head()"
   ]
  },
  {
   "cell_type": "code",
   "execution_count": 4,
   "id": "dc3f8946",
   "metadata": {
    "execution": {
     "iopub.execute_input": "2022-01-22T22:12:03.077604Z",
     "iopub.status.busy": "2022-01-22T22:12:03.076490Z",
     "iopub.status.idle": "2022-01-22T22:12:03.078906Z",
     "shell.execute_reply": "2022-01-22T22:12:03.079465Z",
     "shell.execute_reply.started": "2022-01-22T21:59:19.884626Z"
    },
    "papermill": {
     "duration": 0.027988,
     "end_time": "2022-01-22T22:12:03.079652",
     "exception": false,
     "start_time": "2022-01-22T22:12:03.051664",
     "status": "completed"
    },
    "tags": []
   },
   "outputs": [],
   "source": [
    "useful_features = [columns for columns in df.columns if columns not in (\"id\", \"song_popularity\", \"kfold\")]\n",
    "object_cols = ['key', 'audio_mode', 'time_signature']\n",
    "numerical_cols = ['song_duration_ms', 'acousticness', 'danceability', 'energy','instrumentalness', 'liveness', 'loudness',\n",
    "                  'speechiness', 'tempo', 'audio_valence']\n",
    "\n",
    "df_test = df_test[useful_features]\n",
    "\n",
    "#columns_to_impute = [col for col in useful_features if df[col].isnull().sum() > 0]"
   ]
  },
  {
   "cell_type": "code",
   "execution_count": 5,
   "id": "fc9d2ba8",
   "metadata": {
    "execution": {
     "iopub.execute_input": "2022-01-22T22:12:03.116896Z",
     "iopub.status.busy": "2022-01-22T22:12:03.107996Z",
     "iopub.status.idle": "2022-01-22T22:17:35.228314Z",
     "shell.execute_reply": "2022-01-22T22:17:35.229102Z",
     "shell.execute_reply.started": "2022-01-22T21:59:19.910130Z"
    },
    "papermill": {
     "duration": 332.139936,
     "end_time": "2022-01-22T22:17:35.229331",
     "exception": false,
     "start_time": "2022-01-22T22:12:03.089395",
     "status": "completed"
    },
    "tags": []
   },
   "outputs": [
    {
     "name": "stdout",
     "output_type": "stream",
     "text": [
      "Learning rate set to 0.027504\n",
      "0:\tlearn: 0.5616230\ttotal: 57.2ms\tremaining: 57.1s\n",
      "999:\tlearn: 0.7277157\ttotal: 47.7s\tremaining: 0us\n",
      "accuracy is: 0.553375\n",
      "              precision    recall  f1-score   support\n",
      "\n",
      "           0       0.69      0.56      0.62      5195\n",
      "           1       0.40      0.54      0.46      2805\n",
      "\n",
      "    accuracy                           0.55      8000\n",
      "   macro avg       0.55      0.55      0.54      8000\n",
      "weighted avg       0.59      0.55      0.56      8000\n",
      "\n",
      "Learning rate set to 0.027493\n",
      "0:\tlearn: 0.5607895\ttotal: 53.9ms\tremaining: 53.8s\n",
      "999:\tlearn: 0.7267221\ttotal: 48.4s\tremaining: 0us\n",
      "accuracy is: 0.54825\n",
      "              precision    recall  f1-score   support\n",
      "\n",
      "           0       0.67      0.57      0.61      5058\n",
      "           1       0.41      0.52      0.46      2942\n",
      "\n",
      "    accuracy                           0.55      8000\n",
      "   macro avg       0.54      0.54      0.53      8000\n",
      "weighted avg       0.57      0.55      0.56      8000\n",
      "\n",
      "Learning rate set to 0.02749\n",
      "0:\tlearn: 0.5542869\ttotal: 54.1ms\tremaining: 54.1s\n",
      "999:\tlearn: 0.7165074\ttotal: 46.9s\tremaining: 0us\n",
      "accuracy is: 0.56475\n",
      "              precision    recall  f1-score   support\n",
      "\n",
      "           0       0.68      0.58      0.62      5016\n",
      "           1       0.43      0.54      0.48      2984\n",
      "\n",
      "    accuracy                           0.56      8000\n",
      "   macro avg       0.56      0.56      0.55      8000\n",
      "weighted avg       0.59      0.56      0.57      8000\n",
      "\n",
      "Learning rate set to 0.027495\n",
      "0:\tlearn: 0.5599264\ttotal: 52.8ms\tremaining: 52.7s\n",
      "999:\tlearn: 0.7224842\ttotal: 49.3s\tremaining: 0us\n",
      "accuracy is: 0.55825\n",
      "              precision    recall  f1-score   support\n",
      "\n",
      "           0       0.68      0.57      0.62      5077\n",
      "           1       0.42      0.53      0.47      2923\n",
      "\n",
      "    accuracy                           0.56      8000\n",
      "   macro avg       0.55      0.55      0.55      8000\n",
      "weighted avg       0.58      0.56      0.57      8000\n",
      "\n",
      "Learning rate set to 0.027495\n",
      "0:\tlearn: 0.5569471\ttotal: 53.4ms\tremaining: 53.3s\n",
      "999:\tlearn: 0.7248070\ttotal: 47.4s\tremaining: 0us\n",
      "accuracy is: 0.553375\n",
      "              precision    recall  f1-score   support\n",
      "\n",
      "           0       0.68      0.57      0.62      5078\n",
      "           1       0.41      0.53      0.47      2922\n",
      "\n",
      "    accuracy                           0.55      8000\n",
      "   macro avg       0.55      0.55      0.54      8000\n",
      "weighted avg       0.58      0.55      0.56      8000\n",
      "\n"
     ]
    }
   ],
   "source": [
    "final_test_predictions = []\n",
    "for fold in range(5):\n",
    "    X_train = df[df.kfold != fold].reset_index(drop=True)\n",
    "    X_valid = df[df.kfold == fold].reset_index(drop=True)\n",
    "    X_test = df_test.copy()\n",
    "\n",
    "    y_train = X_train[\"song_popularity\"]\n",
    "    y_valid = X_valid[\"song_popularity\"]\n",
    "\n",
    "    X_train = X_train[useful_features]\n",
    "    X_valid = X_valid[useful_features]\n",
    "\n",
    "    imputer_num = SimpleImputer(strategy=\"median\")\n",
    "    X_train[numerical_cols] = imputer_num.fit_transform(X_train[numerical_cols])\n",
    "    X_valid[numerical_cols] = imputer_num.transform(X_valid[numerical_cols])\n",
    "    X_test[numerical_cols] = imputer_num.transform(X_test[numerical_cols])\n",
    "    \n",
    "    imputer_obj = SimpleImputer(strategy=\"most_frequent\")\n",
    "    X_train[object_cols] = imputer_obj.fit_transform(X_train[object_cols])\n",
    "    X_valid[object_cols] = imputer_obj.transform(X_valid[object_cols])\n",
    "    X_test[object_cols] = imputer_obj.transform(X_test[object_cols])\n",
    "\n",
    "    scaler = preprocessing.RobustScaler()\n",
    "    X_train[numerical_cols] = scaler.fit_transform(X_train[numerical_cols])\n",
    "    X_valid[numerical_cols] = scaler.transform(X_valid[numerical_cols])\n",
    "    X_test[numerical_cols] = scaler.transform(X_test[numerical_cols])\n",
    "\n",
    "    ordinal_encoder = preprocessing.OrdinalEncoder()\n",
    "    X_train[object_cols] = ordinal_encoder.fit_transform(X_train[object_cols])\n",
    "    X_valid[object_cols] = ordinal_encoder.transform(X_valid[object_cols])\n",
    "    X_test[object_cols] = ordinal_encoder.transform(X_test[object_cols])\n",
    "    \n",
    "    sample = RandomOverSampler(random_state=fold)\n",
    "    X_sample, y_sample = sample.fit_resample(X_train, y_train)\n",
    "\n",
    "    model = CatBoostClassifier( random_state=fold,                               \n",
    "                                task_type=\"GPU\", \n",
    "                                eval_metric=\"AUC\",\n",
    "                                verbose=1000)\n",
    "\n",
    "    model.fit(X_sample, y_sample)\n",
    "    preds_valid = model.predict(X_valid)\n",
    "    test_preds = model.predict(X_test)\n",
    "    \n",
    "    final_test_predictions.append(test_preds)\n",
    "\n",
    "    print(\"accuracy is:\",accuracy_score(y_valid, preds_valid))\n",
    "    print(classification_report(y_valid, preds_valid))"
   ]
  },
  {
   "cell_type": "code",
   "execution_count": 6,
   "id": "44cf8194",
   "metadata": {
    "execution": {
     "iopub.execute_input": "2022-01-22T22:17:35.292534Z",
     "iopub.status.busy": "2022-01-22T22:17:35.287168Z",
     "iopub.status.idle": "2022-01-22T22:17:35.355158Z",
     "shell.execute_reply": "2022-01-22T22:17:35.355894Z",
     "shell.execute_reply.started": "2022-01-22T21:39:48.406807Z"
    },
    "papermill": {
     "duration": 0.104966,
     "end_time": "2022-01-22T22:17:35.356177",
     "exception": false,
     "start_time": "2022-01-22T22:17:35.251211",
     "status": "completed"
    },
    "tags": []
   },
   "outputs": [
    {
     "name": "stdout",
     "output_type": "stream",
     "text": [
      "Valuation for test data only:\n",
      "              precision    recall  f1-score   support\n",
      "\n",
      "           0       0.68      0.57      0.62      5078\n",
      "           1       0.41      0.53      0.47      2922\n",
      "\n",
      "    accuracy                           0.55      8000\n",
      "   macro avg       0.55      0.55      0.54      8000\n",
      "weighted avg       0.58      0.55      0.56      8000\n",
      "\n",
      "----------------------------------------------------------------------\n",
      "Valuation for test data only  (new_threshold):\n",
      "              precision    recall  f1-score   support\n",
      "\n",
      "           0       0.67      0.66      0.66      5078\n",
      "           1       0.42      0.42      0.42      2922\n",
      "\n",
      "    accuracy                           0.57      8000\n",
      "   macro avg       0.54      0.54      0.54      8000\n",
      "weighted avg       0.58      0.57      0.57      8000\n",
      "\n"
     ]
    }
   ],
   "source": [
    "threshold = 0.52\n",
    "predictions = (model.predict_proba(X_valid)[:, 1] >= threshold).astype(int)\n",
    "\n",
    "print('Valuation for test data only:')\n",
    "print(classification_report(y_valid, preds_valid))\n",
    "print(\"----------------------------------------------------------------------\")\n",
    "print('Valuation for test data only  (new_threshold):')\n",
    "print(classification_report(y_valid, predictions))"
   ]
  },
  {
   "cell_type": "code",
   "execution_count": 7,
   "id": "98f90f8c",
   "metadata": {
    "execution": {
     "iopub.execute_input": "2022-01-22T22:17:35.409657Z",
     "iopub.status.busy": "2022-01-22T22:17:35.408601Z",
     "iopub.status.idle": "2022-01-22T22:17:35.437793Z",
     "shell.execute_reply": "2022-01-22T22:17:35.438645Z",
     "shell.execute_reply.started": "2022-01-22T21:41:09.711325Z"
    },
    "papermill": {
     "duration": 0.059714,
     "end_time": "2022-01-22T22:17:35.439012",
     "exception": false,
     "start_time": "2022-01-22T22:17:35.379298",
     "status": "completed"
    },
    "tags": []
   },
   "outputs": [],
   "source": [
    "f_list = []\n",
    "predictions_test = (model.predict_proba(X_test)[:, 1] >= threshold).astype(int)\n",
    "f_list.append(predictions_test)\n",
    "preds = np.column_stack(f_list)"
   ]
  },
  {
   "cell_type": "code",
   "execution_count": 8,
   "id": "9f966371",
   "metadata": {
    "execution": {
     "iopub.execute_input": "2022-01-22T22:17:35.491704Z",
     "iopub.status.busy": "2022-01-22T22:17:35.490571Z",
     "iopub.status.idle": "2022-01-22T22:17:35.522756Z",
     "shell.execute_reply": "2022-01-22T22:17:35.523585Z",
     "shell.execute_reply.started": "2022-01-22T21:41:10.306618Z"
    },
    "papermill": {
     "duration": 0.062254,
     "end_time": "2022-01-22T22:17:35.523817",
     "exception": false,
     "start_time": "2022-01-22T22:17:35.461563",
     "status": "completed"
    },
    "tags": []
   },
   "outputs": [],
   "source": [
    "sample_submission[\"song_popularity\"] = preds\n",
    "sample_submission.to_csv(\"submission.csv\", index=False)"
   ]
  },
  {
   "cell_type": "code",
   "execution_count": null,
   "id": "9e6eb91b",
   "metadata": {
    "papermill": {
     "duration": 0.022592,
     "end_time": "2022-01-22T22:17:35.568789",
     "exception": false,
     "start_time": "2022-01-22T22:17:35.546197",
     "status": "completed"
    },
    "tags": []
   },
   "outputs": [],
   "source": []
  }
 ],
 "metadata": {
  "kernelspec": {
   "display_name": "Python 3",
   "language": "python",
   "name": "python3"
  },
  "language_info": {
   "codemirror_mode": {
    "name": "ipython",
    "version": 3
   },
   "file_extension": ".py",
   "mimetype": "text/x-python",
   "name": "python",
   "nbconvert_exporter": "python",
   "pygments_lexer": "ipython3",
   "version": "3.7.12"
  },
  "papermill": {
   "default_parameters": {},
   "duration": 345.835866,
   "end_time": "2022-01-22T22:17:36.403608",
   "environment_variables": {},
   "exception": null,
   "input_path": "__notebook__.ipynb",
   "output_path": "__notebook__.ipynb",
   "parameters": {},
   "start_time": "2022-01-22T22:11:50.567742",
   "version": "2.3.3"
  }
 },
 "nbformat": 4,
 "nbformat_minor": 5
}
