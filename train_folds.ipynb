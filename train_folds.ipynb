{
 "cells": [
  {
   "cell_type": "code",
   "execution_count": 1,
   "id": "53db716a-6437-44a1-8dcc-9d8f90aab0d5",
   "metadata": {},
   "outputs": [],
   "source": [
    "import pandas as pd\n",
    "from sklearn import model_selection"
   ]
  },
  {
   "cell_type": "code",
   "execution_count": 2,
   "id": "e95a09f7-284d-452b-8b52-2477d3b0d27a",
   "metadata": {},
   "outputs": [],
   "source": [
    "df = pd.read_csv(\"train.csv\")"
   ]
  },
  {
   "cell_type": "code",
   "execution_count": 3,
   "id": "acb2e0e2-fbd1-46a3-a0ad-b2093b917c79",
   "metadata": {},
   "outputs": [],
   "source": [
    "df[\"kfold\"] = -1"
   ]
  },
  {
   "cell_type": "code",
   "execution_count": 4,
   "id": "5da490ac-a7a0-47f2-9842-5ee177173364",
   "metadata": {},
   "outputs": [],
   "source": [
    "df = df.sample(frac=1).reset_index(drop=True)"
   ]
  },
  {
   "cell_type": "code",
   "execution_count": 5,
   "id": "617de1a1-d5f0-402f-a7b1-958f7b727426",
   "metadata": {},
   "outputs": [],
   "source": [
    "y = df.song_popularity.values"
   ]
  },
  {
   "cell_type": "code",
   "execution_count": 6,
   "id": "02f08576-0a95-4539-a43a-3513e0034b36",
   "metadata": {},
   "outputs": [],
   "source": [
    "kf = model_selection.StratifiedKFold(n_splits=5)"
   ]
  },
  {
   "cell_type": "code",
   "execution_count": 8,
   "id": "c0f854e4-be76-469c-b146-b9f6a7780b44",
   "metadata": {},
   "outputs": [],
   "source": [
    "for fold, (trn_, val_) in enumerate(kf.split(X=df, y=y)):\n",
    "    df.loc[val_, \"kfold\"] = fold"
   ]
  },
  {
   "cell_type": "code",
   "execution_count": 9,
   "id": "94565df2-c07e-481e-ac02-6c9f47068550",
   "metadata": {},
   "outputs": [],
   "source": [
    "df.to_csv(\"train_folds1.csv\", index=False)"
   ]
  },
  {
   "cell_type": "code",
   "execution_count": null,
   "id": "ceaadea5-fd7e-49ef-bdc5-4b743e80a250",
   "metadata": {},
   "outputs": [],
   "source": []
  }
 ],
 "metadata": {
  "kernelspec": {
   "display_name": "Python 3",
   "language": "python",
   "name": "python3"
  },
  "language_info": {
   "codemirror_mode": {
    "name": "ipython",
    "version": 3
   },
   "file_extension": ".py",
   "mimetype": "text/x-python",
   "name": "python",
   "nbconvert_exporter": "python",
   "pygments_lexer": "ipython3",
   "version": "3.7.11"
  }
 },
 "nbformat": 4,
 "nbformat_minor": 5
}
